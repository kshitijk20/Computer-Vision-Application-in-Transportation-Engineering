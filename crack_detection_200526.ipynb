{
  "nbformat": 4,
  "nbformat_minor": 0,
  "metadata": {
    "colab": {
      "name": "crack_detection_200526.ipynb",
      "provenance": []
    },
    "kernelspec": {
      "name": "python3",
      "display_name": "Python 3"
    },
    "language_info": {
      "name": "python"
    }
  },
  "cells": [
    {
      "cell_type": "code",
      "execution_count": 1122,
      "metadata": {
        "id": "DxMDmMKwz3jT"
      },
      "outputs": [],
      "source": [
        "import numpy as np\n",
        "import pandas as pd\n",
        "import matplotlib.pyplot as plt\n",
        "from sklearn.model_selection import train_test_split\n",
        "import seaborn as sns\n",
        "% matplotlib inline"
      ]
    },
    {
      "cell_type": "markdown",
      "source": [
        "##Loading the dataset"
      ],
      "metadata": {
        "id": "JJXa-yO75VP3"
      }
    },
    {
      "cell_type": "code",
      "source": [
        "df = pd.read_csv('crack_detection.csv',index_col=0)"
      ],
      "metadata": {
        "id": "Ng-h9ak4z6p-"
      },
      "execution_count": 1123,
      "outputs": []
    },
    {
      "cell_type": "code",
      "source": [
        "df.head()"
      ],
      "metadata": {
        "colab": {
          "base_uri": "https://localhost:8080/",
          "height": 297
        },
        "id": "btn7iZEF2RZ-",
        "outputId": "feeb84f8-ad4b-40ff-f173-bbcec91c7a3d"
      },
      "execution_count": 1124,
      "outputs": [
        {
          "output_type": "execute_result",
          "data": {
            "text/plain": [
              "     mean_r      std_r     kur_r    skew_r    mean_g      std_g     kur_g  \\\n",
              "0  107.5734  29.267480  0.744029  0.408828  110.2533  26.953218  1.254689   \n",
              "1  178.6713  14.917756  3.192406  0.238175  184.4947  14.882156  3.035196   \n",
              "2  176.6517  34.618255 -0.146336 -0.421552  161.3083  33.688699  0.057178   \n",
              "3  113.5760  20.084502  0.719752  0.737728  114.0056  19.536222  0.655846   \n",
              "4  125.3565  29.251595  0.430344  0.833496  129.5277  28.661968  0.475502   \n",
              "\n",
              "     skew_g    mean_b      std_b  ...  contrast_r  contrast_g  contrast_b  \\\n",
              "0 -0.135613  113.5715  25.422051  ...    9.181953       177.0       173.0   \n",
              "1  0.141160  190.8538  14.806283  ...    9.207314       142.0       136.0   \n",
              "2 -0.521476  147.2760  30.809486  ...    9.186737       199.0       200.0   \n",
              "3  0.729521  113.6179  18.108592  ...    9.197973       146.0       142.0   \n",
              "4  0.804161  131.9745  27.475848  ...    9.189257       173.0       176.0   \n",
              "\n",
              "   corr_rg   corr_rb   corr_gb  moment_r     moment_g     moment_b  label  \n",
              "0    162.0  0.951368  0.913876  0.803333   856.585412   726.475939      0  \n",
              "1    129.0  0.988325  0.989474  0.976787   222.539456   221.478572      0  \n",
              "2    194.0  0.968581  0.967398  0.890845  1198.423587  1134.928451      1  \n",
              "3    138.0  0.987383  0.983663  0.961305   403.387224   381.663969      0  \n",
              "4    177.0  0.980727  0.986702  0.950291   855.655808   821.508433      1  \n",
              "\n",
              "[5 rows x 24 columns]"
            ],
            "text/html": [
              "\n",
              "  <div id=\"df-3e1ad3dc-6337-43b5-aa20-6fb6741510d7\">\n",
              "    <div class=\"colab-df-container\">\n",
              "      <div>\n",
              "<style scoped>\n",
              "    .dataframe tbody tr th:only-of-type {\n",
              "        vertical-align: middle;\n",
              "    }\n",
              "\n",
              "    .dataframe tbody tr th {\n",
              "        vertical-align: top;\n",
              "    }\n",
              "\n",
              "    .dataframe thead th {\n",
              "        text-align: right;\n",
              "    }\n",
              "</style>\n",
              "<table border=\"1\" class=\"dataframe\">\n",
              "  <thead>\n",
              "    <tr style=\"text-align: right;\">\n",
              "      <th></th>\n",
              "      <th>mean_r</th>\n",
              "      <th>std_r</th>\n",
              "      <th>kur_r</th>\n",
              "      <th>skew_r</th>\n",
              "      <th>mean_g</th>\n",
              "      <th>std_g</th>\n",
              "      <th>kur_g</th>\n",
              "      <th>skew_g</th>\n",
              "      <th>mean_b</th>\n",
              "      <th>std_b</th>\n",
              "      <th>...</th>\n",
              "      <th>contrast_r</th>\n",
              "      <th>contrast_g</th>\n",
              "      <th>contrast_b</th>\n",
              "      <th>corr_rg</th>\n",
              "      <th>corr_rb</th>\n",
              "      <th>corr_gb</th>\n",
              "      <th>moment_r</th>\n",
              "      <th>moment_g</th>\n",
              "      <th>moment_b</th>\n",
              "      <th>label</th>\n",
              "    </tr>\n",
              "  </thead>\n",
              "  <tbody>\n",
              "    <tr>\n",
              "      <th>0</th>\n",
              "      <td>107.5734</td>\n",
              "      <td>29.267480</td>\n",
              "      <td>0.744029</td>\n",
              "      <td>0.408828</td>\n",
              "      <td>110.2533</td>\n",
              "      <td>26.953218</td>\n",
              "      <td>1.254689</td>\n",
              "      <td>-0.135613</td>\n",
              "      <td>113.5715</td>\n",
              "      <td>25.422051</td>\n",
              "      <td>...</td>\n",
              "      <td>9.181953</td>\n",
              "      <td>177.0</td>\n",
              "      <td>173.0</td>\n",
              "      <td>162.0</td>\n",
              "      <td>0.951368</td>\n",
              "      <td>0.913876</td>\n",
              "      <td>0.803333</td>\n",
              "      <td>856.585412</td>\n",
              "      <td>726.475939</td>\n",
              "      <td>0</td>\n",
              "    </tr>\n",
              "    <tr>\n",
              "      <th>1</th>\n",
              "      <td>178.6713</td>\n",
              "      <td>14.917756</td>\n",
              "      <td>3.192406</td>\n",
              "      <td>0.238175</td>\n",
              "      <td>184.4947</td>\n",
              "      <td>14.882156</td>\n",
              "      <td>3.035196</td>\n",
              "      <td>0.141160</td>\n",
              "      <td>190.8538</td>\n",
              "      <td>14.806283</td>\n",
              "      <td>...</td>\n",
              "      <td>9.207314</td>\n",
              "      <td>142.0</td>\n",
              "      <td>136.0</td>\n",
              "      <td>129.0</td>\n",
              "      <td>0.988325</td>\n",
              "      <td>0.989474</td>\n",
              "      <td>0.976787</td>\n",
              "      <td>222.539456</td>\n",
              "      <td>221.478572</td>\n",
              "      <td>0</td>\n",
              "    </tr>\n",
              "    <tr>\n",
              "      <th>2</th>\n",
              "      <td>176.6517</td>\n",
              "      <td>34.618255</td>\n",
              "      <td>-0.146336</td>\n",
              "      <td>-0.421552</td>\n",
              "      <td>161.3083</td>\n",
              "      <td>33.688699</td>\n",
              "      <td>0.057178</td>\n",
              "      <td>-0.521476</td>\n",
              "      <td>147.2760</td>\n",
              "      <td>30.809486</td>\n",
              "      <td>...</td>\n",
              "      <td>9.186737</td>\n",
              "      <td>199.0</td>\n",
              "      <td>200.0</td>\n",
              "      <td>194.0</td>\n",
              "      <td>0.968581</td>\n",
              "      <td>0.967398</td>\n",
              "      <td>0.890845</td>\n",
              "      <td>1198.423587</td>\n",
              "      <td>1134.928451</td>\n",
              "      <td>1</td>\n",
              "    </tr>\n",
              "    <tr>\n",
              "      <th>3</th>\n",
              "      <td>113.5760</td>\n",
              "      <td>20.084502</td>\n",
              "      <td>0.719752</td>\n",
              "      <td>0.737728</td>\n",
              "      <td>114.0056</td>\n",
              "      <td>19.536222</td>\n",
              "      <td>0.655846</td>\n",
              "      <td>0.729521</td>\n",
              "      <td>113.6179</td>\n",
              "      <td>18.108592</td>\n",
              "      <td>...</td>\n",
              "      <td>9.197973</td>\n",
              "      <td>146.0</td>\n",
              "      <td>142.0</td>\n",
              "      <td>138.0</td>\n",
              "      <td>0.987383</td>\n",
              "      <td>0.983663</td>\n",
              "      <td>0.961305</td>\n",
              "      <td>403.387224</td>\n",
              "      <td>381.663969</td>\n",
              "      <td>0</td>\n",
              "    </tr>\n",
              "    <tr>\n",
              "      <th>4</th>\n",
              "      <td>125.3565</td>\n",
              "      <td>29.251595</td>\n",
              "      <td>0.430344</td>\n",
              "      <td>0.833496</td>\n",
              "      <td>129.5277</td>\n",
              "      <td>28.661968</td>\n",
              "      <td>0.475502</td>\n",
              "      <td>0.804161</td>\n",
              "      <td>131.9745</td>\n",
              "      <td>27.475848</td>\n",
              "      <td>...</td>\n",
              "      <td>9.189257</td>\n",
              "      <td>173.0</td>\n",
              "      <td>176.0</td>\n",
              "      <td>177.0</td>\n",
              "      <td>0.980727</td>\n",
              "      <td>0.986702</td>\n",
              "      <td>0.950291</td>\n",
              "      <td>855.655808</td>\n",
              "      <td>821.508433</td>\n",
              "      <td>1</td>\n",
              "    </tr>\n",
              "  </tbody>\n",
              "</table>\n",
              "<p>5 rows × 24 columns</p>\n",
              "</div>\n",
              "      <button class=\"colab-df-convert\" onclick=\"convertToInteractive('df-3e1ad3dc-6337-43b5-aa20-6fb6741510d7')\"\n",
              "              title=\"Convert this dataframe to an interactive table.\"\n",
              "              style=\"display:none;\">\n",
              "        \n",
              "  <svg xmlns=\"http://www.w3.org/2000/svg\" height=\"24px\"viewBox=\"0 0 24 24\"\n",
              "       width=\"24px\">\n",
              "    <path d=\"M0 0h24v24H0V0z\" fill=\"none\"/>\n",
              "    <path d=\"M18.56 5.44l.94 2.06.94-2.06 2.06-.94-2.06-.94-.94-2.06-.94 2.06-2.06.94zm-11 1L8.5 8.5l.94-2.06 2.06-.94-2.06-.94L8.5 2.5l-.94 2.06-2.06.94zm10 10l.94 2.06.94-2.06 2.06-.94-2.06-.94-.94-2.06-.94 2.06-2.06.94z\"/><path d=\"M17.41 7.96l-1.37-1.37c-.4-.4-.92-.59-1.43-.59-.52 0-1.04.2-1.43.59L10.3 9.45l-7.72 7.72c-.78.78-.78 2.05 0 2.83L4 21.41c.39.39.9.59 1.41.59.51 0 1.02-.2 1.41-.59l7.78-7.78 2.81-2.81c.8-.78.8-2.07 0-2.86zM5.41 20L4 18.59l7.72-7.72 1.47 1.35L5.41 20z\"/>\n",
              "  </svg>\n",
              "      </button>\n",
              "      \n",
              "  <style>\n",
              "    .colab-df-container {\n",
              "      display:flex;\n",
              "      flex-wrap:wrap;\n",
              "      gap: 12px;\n",
              "    }\n",
              "\n",
              "    .colab-df-convert {\n",
              "      background-color: #E8F0FE;\n",
              "      border: none;\n",
              "      border-radius: 50%;\n",
              "      cursor: pointer;\n",
              "      display: none;\n",
              "      fill: #1967D2;\n",
              "      height: 32px;\n",
              "      padding: 0 0 0 0;\n",
              "      width: 32px;\n",
              "    }\n",
              "\n",
              "    .colab-df-convert:hover {\n",
              "      background-color: #E2EBFA;\n",
              "      box-shadow: 0px 1px 2px rgba(60, 64, 67, 0.3), 0px 1px 3px 1px rgba(60, 64, 67, 0.15);\n",
              "      fill: #174EA6;\n",
              "    }\n",
              "\n",
              "    [theme=dark] .colab-df-convert {\n",
              "      background-color: #3B4455;\n",
              "      fill: #D2E3FC;\n",
              "    }\n",
              "\n",
              "    [theme=dark] .colab-df-convert:hover {\n",
              "      background-color: #434B5C;\n",
              "      box-shadow: 0px 1px 3px 1px rgba(0, 0, 0, 0.15);\n",
              "      filter: drop-shadow(0px 1px 2px rgba(0, 0, 0, 0.3));\n",
              "      fill: #FFFFFF;\n",
              "    }\n",
              "  </style>\n",
              "\n",
              "      <script>\n",
              "        const buttonEl =\n",
              "          document.querySelector('#df-3e1ad3dc-6337-43b5-aa20-6fb6741510d7 button.colab-df-convert');\n",
              "        buttonEl.style.display =\n",
              "          google.colab.kernel.accessAllowed ? 'block' : 'none';\n",
              "\n",
              "        async function convertToInteractive(key) {\n",
              "          const element = document.querySelector('#df-3e1ad3dc-6337-43b5-aa20-6fb6741510d7');\n",
              "          const dataTable =\n",
              "            await google.colab.kernel.invokeFunction('convertToInteractive',\n",
              "                                                     [key], {});\n",
              "          if (!dataTable) return;\n",
              "\n",
              "          const docLinkHtml = 'Like what you see? Visit the ' +\n",
              "            '<a target=\"_blank\" href=https://colab.research.google.com/notebooks/data_table.ipynb>data table notebook</a>'\n",
              "            + ' to learn more about interactive tables.';\n",
              "          element.innerHTML = '';\n",
              "          dataTable['output_type'] = 'display_data';\n",
              "          await google.colab.output.renderOutput(dataTable, element);\n",
              "          const docLink = document.createElement('div');\n",
              "          docLink.innerHTML = docLinkHtml;\n",
              "          element.appendChild(docLink);\n",
              "        }\n",
              "      </script>\n",
              "    </div>\n",
              "  </div>\n",
              "  "
            ]
          },
          "metadata": {},
          "execution_count": 1124
        }
      ]
    },
    {
      "cell_type": "code",
      "source": [
        "df.info()"
      ],
      "metadata": {
        "colab": {
          "base_uri": "https://localhost:8080/"
        },
        "id": "j8tgnO8P2TOo",
        "outputId": "cd2b38ea-e0b8-4116-ac01-ed4ebb853624"
      },
      "execution_count": 1125,
      "outputs": [
        {
          "output_type": "stream",
          "name": "stdout",
          "text": [
            "<class 'pandas.core.frame.DataFrame'>\n",
            "Int64Index: 700 entries, 0 to 699\n",
            "Data columns (total 24 columns):\n",
            " #   Column      Non-Null Count  Dtype  \n",
            "---  ------      --------------  -----  \n",
            " 0   mean_r      700 non-null    float64\n",
            " 1   std_r       700 non-null    float64\n",
            " 2   kur_r       700 non-null    float64\n",
            " 3   skew_r      700 non-null    float64\n",
            " 4   mean_g      700 non-null    float64\n",
            " 5   std_g       700 non-null    float64\n",
            " 6   kur_g       700 non-null    float64\n",
            " 7   skew_g      700 non-null    float64\n",
            " 8   mean_b      700 non-null    float64\n",
            " 9   std_b       700 non-null    float64\n",
            " 10  kur_b       700 non-null    float64\n",
            " 11  skew_b      700 non-null    float64\n",
            " 12  entropy_r   700 non-null    float64\n",
            " 13  entropy_g   700 non-null    float64\n",
            " 14  contrast_r  700 non-null    float64\n",
            " 15  contrast_g  700 non-null    float64\n",
            " 16  contrast_b  700 non-null    float64\n",
            " 17  corr_rg     700 non-null    float64\n",
            " 18  corr_rb     700 non-null    float64\n",
            " 19  corr_gb     700 non-null    float64\n",
            " 20  moment_r    700 non-null    float64\n",
            " 21  moment_g    700 non-null    float64\n",
            " 22  moment_b    700 non-null    float64\n",
            " 23  label       700 non-null    int64  \n",
            "dtypes: float64(23), int64(1)\n",
            "memory usage: 136.7 KB\n"
          ]
        }
      ]
    },
    {
      "cell_type": "code",
      "source": [
        "# 349 labelled as cracks and 351 labelled as non-cracks\n",
        "df['label'].value_counts()"
      ],
      "metadata": {
        "colab": {
          "base_uri": "https://localhost:8080/"
        },
        "id": "jPL063n12die",
        "outputId": "1469ae54-5fc9-47fa-b491-136058b0da0b"
      },
      "execution_count": 1126,
      "outputs": [
        {
          "output_type": "execute_result",
          "data": {
            "text/plain": [
              "0    351\n",
              "1    349\n",
              "Name: label, dtype: int64"
            ]
          },
          "metadata": {},
          "execution_count": 1126
        }
      ]
    },
    {
      "cell_type": "code",
      "source": [
        "# Our dataset contains 700 training samples and 24 features\n",
        "df.shape"
      ],
      "metadata": {
        "colab": {
          "base_uri": "https://localhost:8080/"
        },
        "id": "Q6vq92s82k14",
        "outputId": "dfde8947-439e-48f5-c9ec-ee783519de54"
      },
      "execution_count": 1127,
      "outputs": [
        {
          "output_type": "execute_result",
          "data": {
            "text/plain": [
              "(700, 24)"
            ]
          },
          "metadata": {},
          "execution_count": 1127
        }
      ]
    },
    {
      "cell_type": "markdown",
      "source": [
        "## Split the dataset into X and Y"
      ],
      "metadata": {
        "id": "m-QTPDfn5c0L"
      }
    },
    {
      "cell_type": "code",
      "source": [
        "X = df.iloc[:,:-1].values\n",
        "Y = df.iloc[:,-1:].values"
      ],
      "metadata": {
        "id": "rnvZvHXk2nIE"
      },
      "execution_count": 1128,
      "outputs": []
    },
    {
      "cell_type": "code",
      "source": [
        "# Print the shape of X and Y\n",
        "print(X.shape)\n",
        "print(Y.shape)"
      ],
      "metadata": {
        "colab": {
          "base_uri": "https://localhost:8080/"
        },
        "id": "JfR7a2xZ27S6",
        "outputId": "172d73d2-eb47-4a3b-9131-01a3d5841bcf"
      },
      "execution_count": 1129,
      "outputs": [
        {
          "output_type": "stream",
          "name": "stdout",
          "text": [
            "(700, 23)\n",
            "(700, 1)\n"
          ]
        }
      ]
    },
    {
      "cell_type": "markdown",
      "source": [
        "##Normalization"
      ],
      "metadata": {
        "id": "Ej9-TyMl5QXG"
      }
    },
    {
      "cell_type": "code",
      "source": [
        "# Normalization\n",
        "# This technique transforms the values in variables between 0 and 1. \n",
        "# From the above, we can see that the numerical variables are varying in different ranges and the outcome is the target variable. \n",
        "# We will perform both the scaling techniques and apply Logistic Regression.\n",
        "def normalize(x):\n",
        "  return (x - np.mean(x,axis = 0))/np.std(X,axis = 0)"
      ],
      "metadata": {
        "id": "QAGb9cdg3EtW"
      },
      "execution_count": 1130,
      "outputs": []
    },
    {
      "cell_type": "code",
      "source": [
        "X = normalize(X)"
      ],
      "metadata": {
        "id": "AUTCRadz3H2c"
      },
      "execution_count": 1131,
      "outputs": []
    },
    {
      "cell_type": "markdown",
      "source": [
        "##Test-Train Split using scikit-learn\n",
        "#60% train, 20% validation, and 20 % test"
      ],
      "metadata": {
        "id": "u1JqxCmc4__4"
      }
    },
    {
      "cell_type": "code",
      "source": [
        "X_train, X_test, y_train, y_test = train_test_split(X, Y, test_size=0.2, random_state=42)\n",
        "X_train, X_val, y_train, y_val = train_test_split(X_train, y_train, test_size=0.25, random_state=42)"
      ],
      "metadata": {
        "id": "TH0mCt0b485E"
      },
      "execution_count": 1132,
      "outputs": []
    },
    {
      "cell_type": "markdown",
      "source": [
        "##Printing the shapes "
      ],
      "metadata": {
        "id": "J3rEAn7472Zl"
      }
    },
    {
      "cell_type": "code",
      "source": [
        "print(X_train.shape)\n",
        "print(y_train.shape)\n",
        "print(X_test.shape)\n",
        "print(y_test.shape)\n",
        "print(X_val.shape)\n",
        "print(y_val.shape)"
      ],
      "metadata": {
        "colab": {
          "base_uri": "https://localhost:8080/"
        },
        "id": "IQFZqGxP76Ri",
        "outputId": "e4ec011a-4dda-4a1c-9927-fe19620ac165"
      },
      "execution_count": 1133,
      "outputs": [
        {
          "output_type": "stream",
          "name": "stdout",
          "text": [
            "(420, 23)\n",
            "(420, 1)\n",
            "(140, 23)\n",
            "(140, 1)\n",
            "(140, 23)\n",
            "(140, 1)\n"
          ]
        }
      ]
    },
    {
      "cell_type": "markdown",
      "source": [
        "##Sigmoid Function"
      ],
      "metadata": {
        "id": "qIIgPw7g9Dqf"
      }
    },
    {
      "cell_type": "code",
      "source": [
        "def sigmoid(x):\n",
        "  return 1.0/(1+np.exp(-x))"
      ],
      "metadata": {
        "id": "UPm1t8E68SDS"
      },
      "execution_count": 1134,
      "outputs": []
    },
    {
      "cell_type": "markdown",
      "source": [
        "##Forward Propagation"
      ],
      "metadata": {
        "id": "2sxmmVYA9jiQ"
      }
    },
    {
      "cell_type": "code",
      "source": [
        "def forward(X,W,b):\n",
        "  y_hat = sigmoid(np.dot(X,W)+b)\n",
        "  return y_hat"
      ],
      "metadata": {
        "id": "A-VByOyq9oz1"
      },
      "execution_count": 1135,
      "outputs": []
    },
    {
      "cell_type": "markdown",
      "source": [
        "##Function to predict a crack ( 0 means no crack whereas 1 means non-crack )"
      ],
      "metadata": {
        "id": "uAcZQQw7-QuK"
      }
    },
    {
      "cell_type": "code",
      "source": [
        "def predict(X,W,b):\n",
        "  y_hat = sigmoid(np.dot(X,W)+b)\n",
        "  y = np.where(y_hat>0.5,1,0)\n",
        "  return y"
      ],
      "metadata": {
        "id": "qEpFroC_-PMa"
      },
      "execution_count": 1136,
      "outputs": []
    },
    {
      "cell_type": "markdown",
      "source": [
        "##Binary Cross-Entropy / Log Loss"
      ],
      "metadata": {
        "id": "ZPgZcfwZ_gX7"
      }
    },
    {
      "cell_type": "code",
      "source": [
        "#w here y is the label (1 for crack and 0 for non-crack) and y_hat is the predicted probability of the point being a crack for all N points.\n",
        "# def cost(y, y_hat):\n",
        "#     loss = -np.mean(y*(np.log(y_hat)) + (1-y)*np.log(1-y_hat))\n",
        "#     return loss\n",
        "# def cost(y_true,y_pred):\n",
        "#     '''In this function, we will compute log loss '''\n",
        "#     log_loss = (-((y_true * np.log10(y_pred)) + (1-y_true) * np.log10(1-y_pred)).mean())\n",
        "#     return log_loss\n",
        "def cost( y_true, y_pred):\n",
        "    # binary cross entropy\n",
        "    y_zero_loss = y_true * np.log(y_pred + 1e-9)\n",
        "    y_one_loss = (1-y_true) * np.log(1 - y_pred + 1e-9)\n",
        "    return -np.mean(y_zero_loss + y_one_loss)"
      ],
      "metadata": {
        "id": "x97ZqAq__D8j"
      },
      "execution_count": 1137,
      "outputs": []
    },
    {
      "cell_type": "markdown",
      "source": [
        "#Gradient descent\n",
        "## w := w-lr*dw\n",
        "\n",
        "##b := b-lr*db\n",
        "\n",
        "where, ```dw``` is the partial derivative of the Loss function with respect to ```w``` and ```db``` is the partial derivative of the Loss function with respect to ```b``` \n",
        "\n",
        "##dw = (1/m)*(y_hat — y).X\n",
        "\n",
        "##db = (1/m)*(y_hat — y)\n",
        "\n"
      ],
      "metadata": {
        "id": "tSyzEWNXE0gk"
      }
    },
    {
      "cell_type": "code",
      "source": [
        "def gradient(X,Y,W,b):\n",
        "  m = X.shape[0]\n",
        "  # Changing from 1D to 2D\n",
        "  y_hat = np.expand_dims(forward(X,W,b),axis =1)\n",
        "  dw = ((1/m)*np.dot(X.T, (y_hat - Y))).squeeze()\n",
        "  db = (1/m)*(np.sum((y_hat - Y)))\n",
        "  return dw,db"
      ],
      "metadata": {
        "id": "17ONp8Fs_sBx"
      },
      "execution_count": 1138,
      "outputs": []
    },
    {
      "cell_type": "code",
      "source": [
        "def BinarylogRegClassifier(X,Y,num_iter,lr=0.01):\n",
        "  # m is the number of training examples i.e 700 and n is the number of features i.e. 23\n",
        "  m,n = X.shape\n",
        "  # Calculating the weight matrix\n",
        "  W = np.random.random((n))\n",
        "  # Calculating the bias\n",
        "  b = np.random.random(1)\n",
        "  losses = []\n",
        "\n",
        "  for i in range(num_iter):\n",
        "    # Finding y_hat by calling forward() function\n",
        "    y_hat = forward(X,W,b)\n",
        "    # Calculating and at the same time appending the loss\n",
        "    losses.append([i,cost(Y,y_hat)])\n",
        "    # dw is the partial derivative of the Loss function with respect to w and db is the partial derivative of the Loss function with respect to b\n",
        "    dw,db = gradient(X,Y,W,b)\n",
        "    # Updating weights and bias\n",
        "    W -= lr*dw\n",
        "    b -= lr*db\n",
        "\n",
        "  return losses,W,b"
      ],
      "metadata": {
        "id": "25ePYM8OHDYo"
      },
      "execution_count": 1139,
      "outputs": []
    },
    {
      "cell_type": "markdown",
      "source": [
        "### Calling the ```BinarylogRegClassifier``` function with number of iterations as 1500"
      ],
      "metadata": {
        "id": "CKozfWbgKXt_"
      }
    },
    {
      "cell_type": "code",
      "source": [
        "losses,W,b = BinarylogRegClassifier(X_train,y_train,1500)"
      ],
      "metadata": {
        "id": "WDoCCrWBIgRC"
      },
      "execution_count": 1140,
      "outputs": []
    },
    {
      "cell_type": "markdown",
      "source": [
        "##Converting the list into array"
      ],
      "metadata": {
        "id": "NhK2ohrTOAVb"
      }
    },
    {
      "cell_type": "code",
      "source": [
        "losses = np.asarray(losses)"
      ],
      "metadata": {
        "id": "HEdurGHqJWrs"
      },
      "execution_count": 1141,
      "outputs": []
    },
    {
      "cell_type": "code",
      "source": [
        "print(losses)"
      ],
      "metadata": {
        "colab": {
          "base_uri": "https://localhost:8080/"
        },
        "id": "n6O_etNvXI1B",
        "outputId": "97a17b5e-740e-4cf9-97af-9007ac32cc7c"
      },
      "execution_count": 1142,
      "outputs": [
        {
          "output_type": "stream",
          "name": "stdout",
          "text": [
            "[[0.00000000e+00 1.64838922e+00]\n",
            " [1.00000000e+00 1.64863429e+00]\n",
            " [2.00000000e+00 1.64887036e+00]\n",
            " ...\n",
            " [1.49700000e+03 1.12572699e+00]\n",
            " [1.49800000e+03 1.12573078e+00]\n",
            " [1.49900000e+03 1.12573470e+00]]\n"
          ]
        }
      ]
    },
    {
      "cell_type": "code",
      "source": [
        "#shape \n",
        "losses.shape"
      ],
      "metadata": {
        "colab": {
          "base_uri": "https://localhost:8080/"
        },
        "id": "VlWnISZFJmOi",
        "outputId": "751c9f5e-d986-4a1f-fd8c-153fed2bdac8"
      },
      "execution_count": 1143,
      "outputs": [
        {
          "output_type": "execute_result",
          "data": {
            "text/plain": [
              "(1500, 2)"
            ]
          },
          "metadata": {},
          "execution_count": 1143
        }
      ]
    },
    {
      "cell_type": "code",
      "source": [
        "# Calculating epochs and losses\n",
        "epochs = losses[:,0]\n",
        "loss = losses[:,1]"
      ],
      "metadata": {
        "id": "-idvn2aVJpMN"
      },
      "execution_count": 1144,
      "outputs": []
    },
    {
      "cell_type": "code",
      "source": [
        "print(epochs.shape)\n",
        "print(loss.shape)"
      ],
      "metadata": {
        "colab": {
          "base_uri": "https://localhost:8080/"
        },
        "id": "dDj_2iwlJ0Rt",
        "outputId": "3c41de4b-2e78-4b85-a270-02c71629e6b6"
      },
      "execution_count": 1145,
      "outputs": [
        {
          "output_type": "stream",
          "name": "stdout",
          "text": [
            "(1500,)\n",
            "(1500,)\n"
          ]
        }
      ]
    },
    {
      "cell_type": "markdown",
      "source": [
        "##Plotting epochs vs. loss\n"
      ],
      "metadata": {
        "id": "4vZyukzvTr7l"
      }
    },
    {
      "cell_type": "code",
      "source": [
        "plt.plot(epochs,loss)\n",
        "plt.xlabel('Epochs')\n",
        "plt.ylabel('Loss')\n",
        "plt.title(\"Epochs vs Loss\")\n",
        "plt.show()"
      ],
      "metadata": {
        "colab": {
          "base_uri": "https://localhost:8080/",
          "height": 295
        },
        "id": "N8tji_gOJ2vx",
        "outputId": "27011b34-e9b3-45dd-b486-f78658123f84"
      },
      "execution_count": 1146,
      "outputs": [
        {
          "output_type": "display_data",
          "data": {
            "text/plain": [
              "<Figure size 432x288 with 1 Axes>"
            ],
            "image/png": "[encoded data removed]"
          },
          "metadata": {
            "needs_background": "light"
          }
        }
      ]
    },
    {
      "cell_type": "markdown",
      "source": [
        "##Function to calculate accuracy"
      ],
      "metadata": {
        "id": "7n5dfR3YUHpp"
      }
    },
    {
      "cell_type": "code",
      "source": [
        "def accuracyCalculator(y,y_hat):\n",
        "  summ = 0\n",
        "  for i in range(len(y)):\n",
        "    if(y[i]==y_hat[i]):\n",
        "      summ += 1\n",
        "  accuracy = summ/len(y)\n",
        "  return accuracy"
      ],
      "metadata": {
        "id": "6n9AI-MMUD9-"
      },
      "execution_count": 1147,
      "outputs": []
    },
    {
      "cell_type": "code",
      "source": [
        "predictions = predict(X_test,W,b)"
      ],
      "metadata": {
        "id": "ZiTff5O1UHWb"
      },
      "execution_count": 1148,
      "outputs": []
    },
    {
      "cell_type": "markdown",
      "source": [
        "##Array contains all the predicted values i.e 1 for crack and 0 for non-crack"
      ],
      "metadata": {
        "id": "qMhNkRcOU2pY"
      }
    },
    {
      "cell_type": "code",
      "source": [
        "predictions"
      ],
      "metadata": {
        "colab": {
          "base_uri": "https://localhost:8080/"
        },
        "id": "Vz868mDkUKX4",
        "outputId": "4b44a1cd-6d99-42ad-c4b3-e281b00cd809"
      },
      "execution_count": 1149,
      "outputs": [
        {
          "output_type": "execute_result",
          "data": {
            "text/plain": [
              "array([1, 0, 0, 1, 1, 1, 0, 0, 1, 0, 1, 0, 0, 1, 1, 0, 1, 1, 0, 0, 0, 0,\n",
              "       1, 0, 0, 0, 1, 0, 0, 1, 1, 0, 0, 1, 0, 1, 1, 1, 0, 0, 0, 0, 1, 1,\n",
              "       1, 1, 1, 0, 1, 1, 0, 1, 0, 1, 1, 1, 0, 1, 1, 0, 0, 0, 0, 1, 0, 0,\n",
              "       1, 1, 0, 1, 1, 1, 1, 0, 0, 1, 0, 0, 1, 0, 1, 1, 1, 1, 1, 0, 1, 1,\n",
              "       0, 0, 1, 0, 0, 0, 0, 1, 0, 0, 1, 1, 1, 1, 1, 1, 0, 1, 1, 1, 0, 1,\n",
              "       1, 0, 0, 0, 0, 1, 1, 1, 0, 1, 0, 1, 0, 0, 1, 1, 1, 0, 1, 0, 0, 1,\n",
              "       0, 1, 0, 0, 0, 0, 0, 1])"
            ]
          },
          "metadata": {},
          "execution_count": 1149
        }
      ]
    },
    {
      "cell_type": "markdown",
      "source": [
        "##Printing the accuracy"
      ],
      "metadata": {
        "id": "wiMivymYV0I4"
      }
    },
    {
      "cell_type": "code",
      "source": [
        "accuracyCalculator(y_test,predictions)"
      ],
      "metadata": {
        "colab": {
          "base_uri": "https://localhost:8080/"
        },
        "id": "rPgAz3XMUN5K",
        "outputId": "df98bbc5-90a5-44b4-dce4-1dc8bfcdedd9"
      },
      "execution_count": 1150,
      "outputs": [
        {
          "output_type": "execute_result",
          "data": {
            "text/plain": [
              "0.8"
            ]
          },
          "metadata": {},
          "execution_count": 1150
        }
      ]
    },
    {
      "cell_type": "markdown",
      "source": [
        "##Calculating the f1_score for training, validation and test set"
      ],
      "metadata": {
        "id": "OJ89XdZ-WAOU"
      }
    },
    {
      "cell_type": "code",
      "source": [
        "from sklearn.metrics import f1_score\n",
        "y_train_pred = predict(X_train,W,b)\n",
        "y_val_pred = predict(X_val,W,b)\n",
        "y_test_pred = predict(X_test,W,b)\n",
        "\n",
        "f1_score_train=f1_score(y_train,y_train_pred)\n",
        "f1_score_val=f1_score(y_val,y_val_pred)\n",
        "f1_score_test=f1_score(y_test,y_test_pred)\n",
        "\n",
        "print(f1_score_train)\n",
        "print(f1_score_val)\n",
        "print(f1_score_test)\n",
        "\n",
        "# f1_score for training set= 0.79\n",
        "# f1_score for validation set=0.72\n",
        "# f1_score for test set=0.79\n"
      ],
      "metadata": {
        "colab": {
          "base_uri": "https://localhost:8080/"
        },
        "id": "mjVjIXw9UqwI",
        "outputId": "5747c97d-1173-4f4f-d0ba-56e2c7dc87c7"
      },
      "execution_count": 1151,
      "outputs": [
        {
          "output_type": "stream",
          "name": "stdout",
          "text": [
            "0.7991071428571429\n",
            "0.7297297297297296\n",
            "0.7941176470588235\n"
          ]
        }
      ]
    }
  ]
}